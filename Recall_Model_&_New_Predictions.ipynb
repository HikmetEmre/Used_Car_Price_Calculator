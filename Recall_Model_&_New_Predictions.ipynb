{
 "cells": [
  {
   "cell_type": "code",
   "execution_count": 40,
   "id": "08c69757",
   "metadata": {},
   "outputs": [
    {
     "name": "stdout",
     "output_type": "stream",
     "text": [
      "[12.83048942]\n"
     ]
    }
   ],
   "source": [
    "import numpy as np\n",
    "import pandas as pd\n",
    "import pickle\n",
    "from sklearn.preprocessing import StandardScaler\n",
    "\n",
    "# Load the model from the pickle file\n",
    "with open('lr_model_lastest.pkl', 'rb') as f:\n",
    "    lr = pickle.load(f)\n",
    "\n",
    "### Make predictions on new data ###\n",
    "new_data = [[3,1599,100,2.9,1000000,0,0,0,1,0,0,1,0,0,0,1,0]]\n",
    "### Scale the new data###\n",
    "scaler = StandardScaler()\n",
    "new_data_scaled = scaler.fit_transform(new_data)\n",
    "#### Make Predictions ###\n",
    "predictions = lr.predict(new_data_scaled)\n",
    "print(predictions)\n"
   ]
  },
  {
   "cell_type": "code",
   "execution_count": 46,
   "id": "d1e36be9",
   "metadata": {},
   "outputs": [
    {
     "name": "stdout",
     "output_type": "stream",
     "text": [
      "[12.44618845 13.21479039]\n"
     ]
    }
   ],
   "source": [
    "import numpy as np\n",
    "import pandas as pd\n",
    "import pickle\n",
    "from sklearn.preprocessing import StandardScaler\n",
    "\n",
    "# Load the model from the pickle file\n",
    "with open('lr1_model_lastest.pkl', 'rb') as f:\n",
    "    lr2 = pickle.load(f)\n",
    "\n",
    "### Make predictions on new data ###\n",
    "new_data = [[132000,1599,100,3.9,6,0,0,0,1,0,0,1,0,0,0,1,0],[90000,1599,100,3.9,4,0,0,0,1,0,0,1,0,0,0,1,0]]\n",
    "### Scale the new data###\n",
    "scaler = StandardScaler()\n",
    "new_data_scaled = scaler.fit_transform(new_data)\n",
    "#### Make Predictions ###\n",
    "predictions = lr2.predict(new_data_scaled)\n",
    "print(predictions)\n"
   ]
  },
  {
   "cell_type": "code",
   "execution_count": 28,
   "id": "3a6a03a3",
   "metadata": {},
   "outputs": [
    {
     "data": {
      "text/plain": [
       "164.6089"
      ]
     },
     "execution_count": 28,
     "metadata": {},
     "output_type": "execute_result"
    }
   ],
   "source": [
    "(12.83*12.83)"
   ]
  },
  {
   "cell_type": "code",
   "execution_count": 32,
   "id": "20f94507",
   "metadata": {},
   "outputs": [],
   "source": [
    "result=(predictions)*(predictions)"
   ]
  },
  {
   "cell_type": "code",
   "execution_count": 33,
   "id": "75666bd9",
   "metadata": {},
   "outputs": [
    {
     "data": {
      "text/plain": [
       "array([164.62069633])"
      ]
     },
     "execution_count": 33,
     "metadata": {},
     "output_type": "execute_result"
    }
   ],
   "source": [
    "result"
   ]
  },
  {
   "cell_type": "code",
   "execution_count": 34,
   "id": "e4fb0e2f",
   "metadata": {},
   "outputs": [
    {
     "name": "stdout",
     "output_type": "stream",
     "text": [
      "[164.62069633]\n"
     ]
    }
   ],
   "source": [
    "print(result)"
   ]
  },
  {
   "cell_type": "code",
   "execution_count": 39,
   "id": "aa2da20a",
   "metadata": {},
   "outputs": [
    {
     "name": "stdout",
     "output_type": "stream",
     "text": [
      "₺[164.62145885]\n"
     ]
    }
   ],
   "source": [
    "result = predictions * predictions\n",
    "lira_symbol = '\\u20BA'\n",
    "result_str = lira_symbol + str(result)\n",
    "print(result_str)\n"
   ]
  },
  {
   "cell_type": "code",
   "execution_count": null,
   "id": "e9c61c42",
   "metadata": {},
   "outputs": [],
   "source": []
  }
 ],
 "metadata": {
  "kernelspec": {
   "display_name": "Python 3 (ipykernel)",
   "language": "python",
   "name": "python3"
  },
  "language_info": {
   "codemirror_mode": {
    "name": "ipython",
    "version": 3
   },
   "file_extension": ".py",
   "mimetype": "text/x-python",
   "name": "python",
   "nbconvert_exporter": "python",
   "pygments_lexer": "ipython3",
   "version": "3.10.6"
  }
 },
 "nbformat": 4,
 "nbformat_minor": 5
}
